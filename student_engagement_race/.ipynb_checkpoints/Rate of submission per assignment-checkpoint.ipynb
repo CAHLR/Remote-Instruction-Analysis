{
 "cells": [
  {
   "cell_type": "code",
   "execution_count": 6,
   "metadata": {},
   "outputs": [],
   "source": [
    "import pandas as pd\n",
    "import pickle\n",
    "import matplotlib.pyplot as plt\n",
    "import matplotlib.dates as mdates\n",
    "import datetime\n",
    "import matplotlib.ticker as ticker\n",
    "import sys\n",
    "sys.path.insert(0, '/home/jenny/remote_learning_code_Spring_2017-2020')\n",
    "from utils import parse_args\n",
    "\n",
    "sys.argv = ['-f']\n",
    "args = parse_args()\n",
    "\n",
    "term_20 = args.semester_2020_Spring\n",
    "start_date_20 = args.start_date_2020_Spring\n",
    "remote_date_20 = args.remote_date_2020_Spring\n",
    "end_date_20 = args.end_date_2020_Spring\n",
    "\n",
    "term_19 = args.semester_2019_Spring\n",
    "start_date_19 = args.start_date_2019_Spring\n",
    "cutoff_date_19 = args.cutoff_date_2019_Spring\n",
    "end_date_19 = args.end_date_2019_Spring\n",
    "\n",
    "term_18 = args.semester_2018_Spring\n",
    "start_date_18 = args.start_date_2018_Spring\n",
    "cutoff_date_18 = args.cutoff_date_2018_Spring\n",
    "end_date_18 = args.end_date_2018_Spring\n",
    "\n",
    "term_17 = args.semester_2017_Spring\n",
    "start_date_17 = args.start_date_2017_Spring\n",
    "cutoff_date_17 = args.cutoff_date_2017_Spring\n",
    "end_date_17 = args.end_date_2017_Spring\n",
    "\n",
    "# load students\n",
    "f = open('../user_id_groups.pkl', 'rb')\n",
    "user = pickle.load(f)\n",
    "students = user['student']"
   ]
  },
  {
   "cell_type": "code",
   "execution_count": 7,
   "metadata": {},
   "outputs": [],
   "source": [
    "enrollments = pd.read_csv(args.enrollments, header=0, sep='\\t')\n",
    "enrollments = enrollments.loc[(enrollments['user_id'].isin(students))&(enrollments['enrollment_role_type']=='StudentEnrollment')]"
   ]
  },
  {
   "cell_type": "code",
   "execution_count": 12,
   "metadata": {},
   "outputs": [],
   "source": [
    "def generate_roaster(enrollments, term):\n",
    "    enrollments = enrollments.loc[enrollments['term_name']==term]\n",
    "    course_group = enrollments.groupby('course_id')\n",
    "    dic = dict()\n",
    "    for i in course_group.groups.keys():\n",
    "        student_ids = course_group.get_group(i)['user_id'].drop_duplicates().tolist()\n",
    "        dic[i] = student_ids\n",
    "    return dic"
   ]
  },
  {
   "cell_type": "code",
   "execution_count": 16,
   "metadata": {},
   "outputs": [
    {
     "name": "stdout",
     "output_type": "stream",
     "text": [
      "3727\n",
      "3434\n",
      "3040\n",
      "2671\n"
     ]
    }
   ],
   "source": [
    "roaster_20 = generate_roaster(enrollments, term_20)\n",
    "print(len(roaster_20))\n",
    "roaster_19 = generate_roaster(enrollments, term_19)\n",
    "print(len(roaster_19))\n",
    "roaster_18 = generate_roaster(enrollments, term_18)\n",
    "print(len(roaster_18))\n",
    "roaster_17 = generate_roaster(enrollments, term_17)\n",
    "print(len(roaster_17))"
   ]
  },
  {
   "cell_type": "code",
   "execution_count": 17,
   "metadata": {},
   "outputs": [],
   "source": [
    "assignments = pd.read_csv(args.assignments, header=0, sep='\\t')\n",
    "assignments = assignments.loc[:, ['course_id', 'assignment_id', 'asn_unlock_at']]\n",
    "submissions = pd.read_csv(args.submissions, header=0, sep='\\t')\n",
    "submissions = submissions.loc[:, ['submission_id', 'assignment_id', 'term_name', 'user_id', 'course_id']]\n"
   ]
  },
  {
   "cell_type": "code",
   "execution_count": null,
   "metadata": {},
   "outputs": [],
   "source": []
  }
 ],
 "metadata": {
  "kernelspec": {
   "display_name": "Python 3",
   "language": "python",
   "name": "python3"
  },
  "language_info": {
   "codemirror_mode": {
    "name": "ipython",
    "version": 3
   },
   "file_extension": ".py",
   "mimetype": "text/x-python",
   "name": "python",
   "nbconvert_exporter": "python",
   "pygments_lexer": "ipython3",
   "version": "3.6.3"
  }
 },
 "nbformat": 4,
 "nbformat_minor": 4
}
